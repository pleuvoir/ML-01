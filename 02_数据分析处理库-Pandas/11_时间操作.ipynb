{
 "cells": [
  {
   "cell_type": "markdown",
   "metadata": {},
   "source": [
    "### python中操作时间"
   ]
  },
  {
   "cell_type": "code",
   "execution_count": 1,
   "metadata": {},
   "outputs": [],
   "source": [
    "import datetime"
   ]
  },
  {
   "cell_type": "code",
   "execution_count": 2,
   "metadata": {},
   "outputs": [
    {
     "data": {
      "text/plain": [
       "datetime.datetime(2017, 11, 24, 10, 30)"
      ]
     },
     "execution_count": 2,
     "metadata": {},
     "output_type": "execute_result"
    }
   ],
   "source": [
    "dt = datetime.datetime(year=2017,month=11,day=24,hour=10,minute=30)\n",
    "dt"
   ]
  },
  {
   "cell_type": "code",
   "execution_count": 3,
   "metadata": {},
   "outputs": [
    {
     "name": "stdout",
     "output_type": "stream",
     "text": [
      "2017-11-24 10:30:00\n"
     ]
    }
   ],
   "source": [
    "print(dt)"
   ]
  },
  {
   "cell_type": "markdown",
   "metadata": {},
   "source": [
    "### pandas中操作时间"
   ]
  },
  {
   "cell_type": "code",
   "execution_count": 4,
   "metadata": {},
   "outputs": [],
   "source": [
    "import pandas as pd"
   ]
  },
  {
   "cell_type": "code",
   "execution_count": 5,
   "metadata": {},
   "outputs": [
    {
     "data": {
      "text/plain": [
       "Timestamp('2017-11-24 00:00:00')"
      ]
     },
     "execution_count": 5,
     "metadata": {},
     "output_type": "execute_result"
    }
   ],
   "source": [
    "ts = pd.Timestamp('2017-11-24') ##构造时间\n",
    "ts"
   ]
  },
  {
   "cell_type": "code",
   "execution_count": 6,
   "metadata": {},
   "outputs": [
    {
     "name": "stdout",
     "output_type": "stream",
     "text": [
      "2017-11-24 00:00:00\n"
     ]
    }
   ],
   "source": [
    "print(ts)"
   ]
  },
  {
   "cell_type": "code",
   "execution_count": 7,
   "metadata": {},
   "outputs": [
    {
     "data": {
      "text/plain": [
       "11"
      ]
     },
     "execution_count": 7,
     "metadata": {},
     "output_type": "execute_result"
    }
   ],
   "source": [
    "ts.month"
   ]
  },
  {
   "cell_type": "code",
   "execution_count": 8,
   "metadata": {},
   "outputs": [
    {
     "data": {
      "text/plain": [
       "24"
      ]
     },
     "execution_count": 8,
     "metadata": {},
     "output_type": "execute_result"
    }
   ],
   "source": [
    "ts.day"
   ]
  },
  {
   "cell_type": "code",
   "execution_count": 9,
   "metadata": {},
   "outputs": [
    {
     "data": {
      "text/plain": [
       "Timestamp('2017-11-29 00:00:00')"
      ]
     },
     "execution_count": 9,
     "metadata": {},
     "output_type": "execute_result"
    }
   ],
   "source": [
    "ts + pd.Timedelta('5 days') # 加5天"
   ]
  },
  {
   "cell_type": "code",
   "execution_count": 10,
   "metadata": {},
   "outputs": [
    {
     "data": {
      "text/plain": [
       "Timestamp('2017-11-24 00:00:00')"
      ]
     },
     "execution_count": 10,
     "metadata": {},
     "output_type": "execute_result"
    }
   ],
   "source": [
    "pd.to_datetime('2017-11-24') #构造时间"
   ]
  },
  {
   "cell_type": "code",
   "execution_count": 11,
   "metadata": {},
   "outputs": [
    {
     "data": {
      "text/plain": [
       "Timestamp('2017-11-24 00:00:00')"
      ]
     },
     "execution_count": 11,
     "metadata": {},
     "output_type": "execute_result"
    }
   ],
   "source": [
    "pd.to_datetime('24/11/2017')"
   ]
  },
  {
   "cell_type": "markdown",
   "metadata": {},
   "source": [
    "### 在pandas中构建时间序列"
   ]
  },
  {
   "cell_type": "code",
   "execution_count": 12,
   "metadata": {},
   "outputs": [
    {
     "data": {
      "text/plain": [
       "0    2017-11-24 00:00:00\n",
       "1    2017-11-25 00:00:00\n",
       "2    2017-11-26 00:00:00\n",
       "dtype: object"
      ]
     },
     "execution_count": 12,
     "metadata": {},
     "output_type": "execute_result"
    }
   ],
   "source": [
    "s = pd.Series(['2017-11-24 00:00:00','2017-11-25 00:00:00','2017-11-26 00:00:00'])\n",
    "s"
   ]
  },
  {
   "cell_type": "code",
   "execution_count": 13,
   "metadata": {},
   "outputs": [
    {
     "data": {
      "text/plain": [
       "0   2017-11-24\n",
       "1   2017-11-25\n",
       "2   2017-11-26\n",
       "dtype: datetime64[ns]"
      ]
     },
     "execution_count": 13,
     "metadata": {},
     "output_type": "execute_result"
    }
   ],
   "source": [
    "ts = pd.to_datetime(s)\n",
    "ts"
   ]
  },
  {
   "cell_type": "code",
   "execution_count": 14,
   "metadata": {},
   "outputs": [
    {
     "data": {
      "text/plain": [
       "0    0\n",
       "1    0\n",
       "2    0\n",
       "dtype: int64"
      ]
     },
     "execution_count": 14,
     "metadata": {},
     "output_type": "execute_result"
    }
   ],
   "source": [
    "ts.dt.hour"
   ]
  },
  {
   "cell_type": "code",
   "execution_count": 15,
   "metadata": {},
   "outputs": [
    {
     "data": {
      "text/plain": [
       "0    4\n",
       "1    5\n",
       "2    6\n",
       "dtype: int64"
      ]
     },
     "execution_count": 15,
     "metadata": {},
     "output_type": "execute_result"
    }
   ],
   "source": [
    "ts.dt.weekday"
   ]
  },
  {
   "cell_type": "code",
   "execution_count": 16,
   "metadata": {},
   "outputs": [
    {
     "data": {
      "text/plain": [
       "0   2017-11-24 00:00:00\n",
       "1   2017-11-24 12:00:00\n",
       "2   2017-11-25 00:00:00\n",
       "3   2017-11-25 12:00:00\n",
       "4   2017-11-26 00:00:00\n",
       "5   2017-11-26 12:00:00\n",
       "6   2017-11-27 00:00:00\n",
       "7   2017-11-27 12:00:00\n",
       "8   2017-11-28 00:00:00\n",
       "9   2017-11-28 12:00:00\n",
       "dtype: datetime64[ns]"
      ]
     },
     "execution_count": 16,
     "metadata": {},
     "output_type": "execute_result"
    }
   ],
   "source": [
    "pd.Series(pd.date_range(start='2017-11-24',periods = 10,freq = '12H')) #构造一个时间序列(很多个日期)"
   ]
  },
  {
   "cell_type": "markdown",
   "metadata": {},
   "source": [
    "### 读取文件进行操作"
   ]
  },
  {
   "cell_type": "code",
   "execution_count": 17,
   "metadata": {},
   "outputs": [
    {
     "data": {
      "text/html": [
       "<div>\n",
       "<style scoped>\n",
       "    .dataframe tbody tr th:only-of-type {\n",
       "        vertical-align: middle;\n",
       "    }\n",
       "\n",
       "    .dataframe tbody tr th {\n",
       "        vertical-align: top;\n",
       "    }\n",
       "\n",
       "    .dataframe thead th {\n",
       "        text-align: right;\n",
       "    }\n",
       "</style>\n",
       "<table border=\"1\" class=\"dataframe\">\n",
       "  <thead>\n",
       "    <tr style=\"text-align: right;\">\n",
       "      <th></th>\n",
       "      <th>Time</th>\n",
       "      <th>L06_347</th>\n",
       "      <th>LS06_347</th>\n",
       "      <th>LS06_348</th>\n",
       "    </tr>\n",
       "  </thead>\n",
       "  <tbody>\n",
       "    <tr>\n",
       "      <th>0</th>\n",
       "      <td>2009-01-01 00:00:00</td>\n",
       "      <td>0.137417</td>\n",
       "      <td>0.097500</td>\n",
       "      <td>0.016833</td>\n",
       "    </tr>\n",
       "    <tr>\n",
       "      <th>1</th>\n",
       "      <td>2009-01-01 03:00:00</td>\n",
       "      <td>0.131250</td>\n",
       "      <td>0.088833</td>\n",
       "      <td>0.016417</td>\n",
       "    </tr>\n",
       "    <tr>\n",
       "      <th>2</th>\n",
       "      <td>2009-01-01 06:00:00</td>\n",
       "      <td>0.113500</td>\n",
       "      <td>0.091250</td>\n",
       "      <td>0.016750</td>\n",
       "    </tr>\n",
       "    <tr>\n",
       "      <th>3</th>\n",
       "      <td>2009-01-01 09:00:00</td>\n",
       "      <td>0.135750</td>\n",
       "      <td>0.091500</td>\n",
       "      <td>0.016250</td>\n",
       "    </tr>\n",
       "    <tr>\n",
       "      <th>4</th>\n",
       "      <td>2009-01-01 12:00:00</td>\n",
       "      <td>0.140917</td>\n",
       "      <td>0.096167</td>\n",
       "      <td>0.017000</td>\n",
       "    </tr>\n",
       "  </tbody>\n",
       "</table>\n",
       "</div>"
      ],
      "text/plain": [
       "                  Time   L06_347  LS06_347  LS06_348\n",
       "0  2009-01-01 00:00:00  0.137417  0.097500  0.016833\n",
       "1  2009-01-01 03:00:00  0.131250  0.088833  0.016417\n",
       "2  2009-01-01 06:00:00  0.113500  0.091250  0.016750\n",
       "3  2009-01-01 09:00:00  0.135750  0.091500  0.016250\n",
       "4  2009-01-01 12:00:00  0.140917  0.096167  0.017000"
      ]
     },
     "execution_count": 17,
     "metadata": {},
     "output_type": "execute_result"
    }
   ],
   "source": [
    "data = pd.read_csv('flowdata.csv')\n",
    "data.head()"
   ]
  },
  {
   "cell_type": "code",
   "execution_count": 18,
   "metadata": {},
   "outputs": [
    {
     "data": {
      "text/html": [
       "<div>\n",
       "<style scoped>\n",
       "    .dataframe tbody tr th:only-of-type {\n",
       "        vertical-align: middle;\n",
       "    }\n",
       "\n",
       "    .dataframe tbody tr th {\n",
       "        vertical-align: top;\n",
       "    }\n",
       "\n",
       "    .dataframe thead th {\n",
       "        text-align: right;\n",
       "    }\n",
       "</style>\n",
       "<table border=\"1\" class=\"dataframe\">\n",
       "  <thead>\n",
       "    <tr style=\"text-align: right;\">\n",
       "      <th></th>\n",
       "      <th>Time</th>\n",
       "      <th>L06_347</th>\n",
       "      <th>LS06_347</th>\n",
       "      <th>LS06_348</th>\n",
       "    </tr>\n",
       "    <tr>\n",
       "      <th>Time1</th>\n",
       "      <th></th>\n",
       "      <th></th>\n",
       "      <th></th>\n",
       "      <th></th>\n",
       "    </tr>\n",
       "  </thead>\n",
       "  <tbody>\n",
       "    <tr>\n",
       "      <th>2009-01-01 00:00:00</th>\n",
       "      <td>2009-01-01 00:00:00</td>\n",
       "      <td>0.137417</td>\n",
       "      <td>0.097500</td>\n",
       "      <td>0.016833</td>\n",
       "    </tr>\n",
       "    <tr>\n",
       "      <th>2009-01-01 03:00:00</th>\n",
       "      <td>2009-01-01 03:00:00</td>\n",
       "      <td>0.131250</td>\n",
       "      <td>0.088833</td>\n",
       "      <td>0.016417</td>\n",
       "    </tr>\n",
       "    <tr>\n",
       "      <th>2009-01-01 06:00:00</th>\n",
       "      <td>2009-01-01 06:00:00</td>\n",
       "      <td>0.113500</td>\n",
       "      <td>0.091250</td>\n",
       "      <td>0.016750</td>\n",
       "    </tr>\n",
       "    <tr>\n",
       "      <th>2009-01-01 09:00:00</th>\n",
       "      <td>2009-01-01 09:00:00</td>\n",
       "      <td>0.135750</td>\n",
       "      <td>0.091500</td>\n",
       "      <td>0.016250</td>\n",
       "    </tr>\n",
       "    <tr>\n",
       "      <th>2009-01-01 12:00:00</th>\n",
       "      <td>2009-01-01 12:00:00</td>\n",
       "      <td>0.140917</td>\n",
       "      <td>0.096167</td>\n",
       "      <td>0.017000</td>\n",
       "    </tr>\n",
       "    <tr>\n",
       "      <th>...</th>\n",
       "      <td>...</td>\n",
       "      <td>...</td>\n",
       "      <td>...</td>\n",
       "      <td>...</td>\n",
       "    </tr>\n",
       "    <tr>\n",
       "      <th>2013-01-01 12:00:00</th>\n",
       "      <td>2013-01-01 12:00:00</td>\n",
       "      <td>1.710000</td>\n",
       "      <td>1.710000</td>\n",
       "      <td>0.129583</td>\n",
       "    </tr>\n",
       "    <tr>\n",
       "      <th>2013-01-01 15:00:00</th>\n",
       "      <td>2013-01-01 15:00:00</td>\n",
       "      <td>1.420000</td>\n",
       "      <td>1.420000</td>\n",
       "      <td>0.096333</td>\n",
       "    </tr>\n",
       "    <tr>\n",
       "      <th>2013-01-01 18:00:00</th>\n",
       "      <td>2013-01-01 18:00:00</td>\n",
       "      <td>1.178583</td>\n",
       "      <td>1.178583</td>\n",
       "      <td>0.083083</td>\n",
       "    </tr>\n",
       "    <tr>\n",
       "      <th>2013-01-01 21:00:00</th>\n",
       "      <td>2013-01-01 21:00:00</td>\n",
       "      <td>0.898250</td>\n",
       "      <td>0.898250</td>\n",
       "      <td>0.077167</td>\n",
       "    </tr>\n",
       "    <tr>\n",
       "      <th>2013-01-02 00:00:00</th>\n",
       "      <td>2013-01-02 00:00:00</td>\n",
       "      <td>0.860000</td>\n",
       "      <td>0.860000</td>\n",
       "      <td>0.075000</td>\n",
       "    </tr>\n",
       "  </tbody>\n",
       "</table>\n",
       "<p>11697 rows × 4 columns</p>\n",
       "</div>"
      ],
      "text/plain": [
       "                                    Time   L06_347  LS06_347  LS06_348\n",
       "Time1                                                                 \n",
       "2009-01-01 00:00:00  2009-01-01 00:00:00  0.137417  0.097500  0.016833\n",
       "2009-01-01 03:00:00  2009-01-01 03:00:00  0.131250  0.088833  0.016417\n",
       "2009-01-01 06:00:00  2009-01-01 06:00:00  0.113500  0.091250  0.016750\n",
       "2009-01-01 09:00:00  2009-01-01 09:00:00  0.135750  0.091500  0.016250\n",
       "2009-01-01 12:00:00  2009-01-01 12:00:00  0.140917  0.096167  0.017000\n",
       "...                                  ...       ...       ...       ...\n",
       "2013-01-01 12:00:00  2013-01-01 12:00:00  1.710000  1.710000  0.129583\n",
       "2013-01-01 15:00:00  2013-01-01 15:00:00  1.420000  1.420000  0.096333\n",
       "2013-01-01 18:00:00  2013-01-01 18:00:00  1.178583  1.178583  0.083083\n",
       "2013-01-01 21:00:00  2013-01-01 21:00:00  0.898250  0.898250  0.077167\n",
       "2013-01-02 00:00:00  2013-01-02 00:00:00  0.860000  0.860000  0.075000\n",
       "\n",
       "[11697 rows x 4 columns]"
      ]
     },
     "execution_count": 18,
     "metadata": {},
     "output_type": "execute_result"
    }
   ],
   "source": [
    "data['Time1'] = pd.to_datetime(data['Time']) #设置一个新索引 datetime 格式的\n",
    "data = data.set_index('Time1')\n",
    "data"
   ]
  },
  {
   "cell_type": "code",
   "execution_count": 19,
   "metadata": {},
   "outputs": [
    {
     "data": {
      "text/plain": [
       "DatetimeIndex(['2009-01-01 00:00:00', '2009-01-01 03:00:00',\n",
       "               '2009-01-01 06:00:00', '2009-01-01 09:00:00',\n",
       "               '2009-01-01 12:00:00', '2009-01-01 15:00:00',\n",
       "               '2009-01-01 18:00:00', '2009-01-01 21:00:00',\n",
       "               '2009-01-02 00:00:00', '2009-01-02 03:00:00',\n",
       "               ...\n",
       "               '2012-12-31 21:00:00', '2013-01-01 00:00:00',\n",
       "               '2013-01-01 03:00:00', '2013-01-01 06:00:00',\n",
       "               '2013-01-01 09:00:00', '2013-01-01 12:00:00',\n",
       "               '2013-01-01 15:00:00', '2013-01-01 18:00:00',\n",
       "               '2013-01-01 21:00:00', '2013-01-02 00:00:00'],\n",
       "              dtype='datetime64[ns]', name='Time1', length=11697, freq=None)"
      ]
     },
     "execution_count": 19,
     "metadata": {},
     "output_type": "execute_result"
    }
   ],
   "source": [
    "data.index"
   ]
  },
  {
   "cell_type": "code",
   "execution_count": 20,
   "metadata": {
    "pycharm": {
     "name": "#%%\n"
    }
   },
   "outputs": [
    {
     "data": {
      "text/html": [
       "<div>\n",
       "<style scoped>\n",
       "    .dataframe tbody tr th:only-of-type {\n",
       "        vertical-align: middle;\n",
       "    }\n",
       "\n",
       "    .dataframe tbody tr th {\n",
       "        vertical-align: top;\n",
       "    }\n",
       "\n",
       "    .dataframe thead th {\n",
       "        text-align: right;\n",
       "    }\n",
       "</style>\n",
       "<table border=\"1\" class=\"dataframe\">\n",
       "  <thead>\n",
       "    <tr style=\"text-align: right;\">\n",
       "      <th></th>\n",
       "      <th>L06_347</th>\n",
       "      <th>LS06_347</th>\n",
       "      <th>LS06_348</th>\n",
       "    </tr>\n",
       "    <tr>\n",
       "      <th>Time</th>\n",
       "      <th></th>\n",
       "      <th></th>\n",
       "      <th></th>\n",
       "    </tr>\n",
       "  </thead>\n",
       "  <tbody>\n",
       "    <tr>\n",
       "      <th>2009-01-01 00:00:00</th>\n",
       "      <td>0.137417</td>\n",
       "      <td>0.097500</td>\n",
       "      <td>0.016833</td>\n",
       "    </tr>\n",
       "    <tr>\n",
       "      <th>2009-01-01 03:00:00</th>\n",
       "      <td>0.131250</td>\n",
       "      <td>0.088833</td>\n",
       "      <td>0.016417</td>\n",
       "    </tr>\n",
       "    <tr>\n",
       "      <th>2009-01-01 06:00:00</th>\n",
       "      <td>0.113500</td>\n",
       "      <td>0.091250</td>\n",
       "      <td>0.016750</td>\n",
       "    </tr>\n",
       "    <tr>\n",
       "      <th>2009-01-01 09:00:00</th>\n",
       "      <td>0.135750</td>\n",
       "      <td>0.091500</td>\n",
       "      <td>0.016250</td>\n",
       "    </tr>\n",
       "    <tr>\n",
       "      <th>2009-01-01 12:00:00</th>\n",
       "      <td>0.140917</td>\n",
       "      <td>0.096167</td>\n",
       "      <td>0.017000</td>\n",
       "    </tr>\n",
       "  </tbody>\n",
       "</table>\n",
       "</div>"
      ],
      "text/plain": [
       "                      L06_347  LS06_347  LS06_348\n",
       "Time                                             \n",
       "2009-01-01 00:00:00  0.137417  0.097500  0.016833\n",
       "2009-01-01 03:00:00  0.131250  0.088833  0.016417\n",
       "2009-01-01 06:00:00  0.113500  0.091250  0.016750\n",
       "2009-01-01 09:00:00  0.135750  0.091500  0.016250\n",
       "2009-01-01 12:00:00  0.140917  0.096167  0.017000"
      ]
     },
     "execution_count": 20,
     "metadata": {},
     "output_type": "execute_result"
    }
   ],
   "source": [
    "data = pd.read_csv('flowdata.csv',index_col = 0,parse_dates = True) # 可以在读取的时候直接转换为时间\n",
    "data.head()"
   ]
  }
 ],
 "metadata": {
  "kernelspec": {
   "display_name": "Python 3",
   "language": "python",
   "name": "python3"
  },
  "language_info": {
   "codemirror_mode": {
    "name": "ipython",
    "version": 3
   },
   "file_extension": ".py",
   "mimetype": "text/x-python",
   "name": "python",
   "nbconvert_exporter": "python",
   "pygments_lexer": "ipython3",
   "version": "3.8.1"
  }
 },
 "nbformat": 4,
 "nbformat_minor": 1
}