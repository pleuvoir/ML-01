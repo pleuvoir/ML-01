{
 "cells": [
  {
   "cell_type": "code",
   "execution_count": 1,
   "metadata": {},
   "outputs": [],
   "source": [
    "import numpy as np"
   ]
  },
  {
   "cell_type": "code",
   "execution_count": 3,
   "metadata": {},
   "outputs": [
    {
     "data": {
      "text/plain": [
       "array([[1, 2, 3],\n",
       "       [4, 5, 6],\n",
       "       [7, 8, 9]])"
      ]
     },
     "execution_count": 3,
     "metadata": {},
     "output_type": "execute_result"
    }
   ],
   "source": [
    "# 矩阵格式，多维的形式\n",
    "array = np.array([[1,2,3],\n",
    "                [4,5,6],\n",
    "                [7,8,9]])\n",
    "array"
   ]
  },
  {
   "cell_type": "code",
   "execution_count": 3,
   "metadata": {},
   "outputs": [
    {
     "name": "stdout",
     "output_type": "stream",
     "text": [
      "9\n",
      "(3, 3)\n",
      "int64\n"
     ]
    }
   ],
   "source": [
    "# 输出基本属性\n",
    "print(array.size)\n",
    "print(array.shape)\n",
    "print(array.dtype)"
   ]
  },
  {
   "cell_type": "code",
   "execution_count": 4,
   "metadata": {},
   "outputs": [
    {
     "data": {
      "text/plain": [
       "5"
      ]
     },
     "execution_count": 4,
     "metadata": {},
     "output_type": "execute_result"
    }
   ],
   "source": [
    "# 取其中的一个值，按照（x,y）坐标的形式\n",
    "array[1,1]"
   ]
  },
  {
   "cell_type": "code",
   "execution_count": 7,
   "metadata": {},
   "outputs": [
    {
     "name": "stdout",
     "output_type": "stream",
     "text": [
      "[1 2 3]\n",
      "[1 4 7]\n"
     ]
    }
   ],
   "source": [
    "# 取某一行或者某一列所有的值\n",
    "print(array[0,:]) #第一行，冒号就是切片的代表所有\n",
    "print(array[:,0]) #第一列"
   ]
  },
  {
   "cell_type": "code",
   "execution_count": 9,
   "metadata": {},
   "outputs": [
    {
     "name": "stdout",
     "output_type": "stream",
     "text": [
      "[4 5]\n",
      "[1 4]\n"
     ]
    }
   ],
   "source": [
    "# 取某一行或者某一列的的几个值，可以使用切片\n",
    "print(array[1,0:2]) #取第二行的前两个值，行是固定的所以 x=1\n",
    "print(array[0:2,0]) #取第一列的前两个值，列是固定的所以 y=0"
   ]
  },
  {
   "cell_type": "code",
   "execution_count": 12,
   "metadata": {},
   "outputs": [
    {
     "name": "stdout",
     "output_type": "stream",
     "text": [
      "[[  1   2   3]\n",
      " [  4 100   6]\n",
      " [  7   8   9]]\n",
      "------------------\n",
      "[[  1   2   3]\n",
      " [  4 100   6]\n",
      " [  7   8   9]]\n"
     ]
    }
   ],
   "source": [
    "# 深拷贝（避免对象引用同时修改）\n",
    "\"\"\"演示引用同时修改的问题\"\"\"\n",
    "array_new = array  # 此时array_new指向了array的引用，array_new修改其实就是修改了array\n",
    "array_new[1,1] = 100\n",
    "print(array_new)\n",
    "print('-' * 18)\n",
    "print(array)"
   ]
  },
  {
   "cell_type": "code",
   "execution_count": 14,
   "metadata": {},
   "outputs": [
    {
     "name": "stdout",
     "output_type": "stream",
     "text": [
      "[[  1   2   3]\n",
      " [  4 100   6]\n",
      " [  7   8   9]]\n",
      "------------------\n",
      "[[  1   2   3]\n",
      " [  4 100   6]\n",
      " [  7   8   9]]\n"
     ]
    }
   ],
   "source": [
    "array_new_copy = array.copy() #使用copy解决这个问题\n",
    "print(array)\n",
    "print('-' * 18)\n",
    "print(array_new_copy)"
   ]
  },
  {
   "cell_type": "code",
   "execution_count": 15,
   "metadata": {},
   "outputs": [
    {
     "name": "stdout",
     "output_type": "stream",
     "text": [
      "[[  1   2   3]\n",
      " [  4 100   6]\n",
      " [  7   8   9]]\n",
      "------------------\n",
      "[[  1   2   3]\n",
      " [  4 999   6]\n",
      " [  7   8   9]]\n"
     ]
    }
   ],
   "source": [
    "array_new_copy[1,1] = 999   #可以看到已经不会影响原来的ndarray了\n",
    "print(array)\n",
    "print('-' * 18)\n",
    "print(array_new_copy)"
   ]
  },
  {
   "cell_type": "code",
   "execution_count": 17,
   "metadata": {},
   "outputs": [
    {
     "data": {
      "text/plain": [
       "array([ 0, 10, 20, 30, 40, 50, 60, 70, 80, 90])"
      ]
     },
     "execution_count": 17,
     "metadata": {},
     "output_type": "execute_result"
    }
   ],
   "source": [
    "# 生成随机\n",
    "array_random = np.arange(0,100,10)\n",
    "array_random"
   ]
  },
  {
   "cell_type": "code",
   "execution_count": 19,
   "metadata": {},
   "outputs": [
    {
     "data": {
      "text/plain": [
       "array([False,  True,  True,  True, False,  True,  True,  True,  True,\n",
       "       False])"
      ]
     },
     "execution_count": 19,
     "metadata": {},
     "output_type": "execute_result"
    }
   ],
   "source": [
    "# 可以指定类型生成bool类型，可以使用这个东西当索引\n",
    "mask = np.array([0,1,1,1,0,1,1,1,1,0],dtype=bool)  # >=1的是True，<=0是False\n",
    "mask"
   ]
  },
  {
   "cell_type": "code",
   "execution_count": 21,
   "metadata": {},
   "outputs": [
    {
     "data": {
      "text/plain": [
       "array([10, 20, 30, 50, 60, 70, 80])"
      ]
     },
     "execution_count": 21,
     "metadata": {},
     "output_type": "execute_result"
    }
   ],
   "source": [
    "# 使用上面的布尔类型做索引\n",
    "array_random[mask]  # 可以发现结果集对应True的都保留了"
   ]
  },
  {
   "cell_type": "code",
   "execution_count": 23,
   "metadata": {},
   "outputs": [],
   "source": [
    "\"\"\"上面的结果有什么用？其实就是可以判断过滤数据的时候要不要这个值\"\"\""
   ]
  },
  {
   "cell_type": "code",
   "execution_count": 25,
   "metadata": {},
   "outputs": [
    {
     "data": {
      "text/plain": [
       "array([0.63387693, 0.2109806 , 0.56138125, 0.54359955, 0.31109633,\n",
       "       0.55972276, 0.95097271, 0.42177654, 0.26841877, 0.99258474])"
      ]
     },
     "execution_count": 25,
     "metadata": {},
     "output_type": "execute_result"
    }
   ],
   "source": [
    "# 生成0-1之间的随机数\n",
    "random_array = np.random.rand(10) #生成10个\n",
    "random_array"
   ]
  },
  {
   "cell_type": "code",
   "execution_count": 27,
   "metadata": {},
   "outputs": [
    {
     "data": {
      "text/plain": [
       "array([ True, False,  True,  True, False,  True,  True, False, False,\n",
       "        True])"
      ]
     },
     "execution_count": 27,
     "metadata": {},
     "output_type": "execute_result"
    }
   ],
   "source": [
    "# 判断哪些大于 0.5\n",
    "random_array > 0.5 #这个就会生成一个新的ndarray，dtype=bool"
   ]
  },
  {
   "cell_type": "code",
   "execution_count": 28,
   "metadata": {},
   "outputs": [
    {
     "data": {
      "text/plain": [
       "array([0.63387693, 0.56138125, 0.54359955, 0.55972276, 0.95097271,\n",
       "       0.99258474])"
      ]
     },
     "execution_count": 28,
     "metadata": {},
     "output_type": "execute_result"
    }
   ],
   "source": [
    "# 再根据这个结果筛选出大于0.5的结果集\n",
    "random_array[random_array > 0.5]"
   ]
  },
  {
   "cell_type": "code",
   "execution_count": 31,
   "metadata": {},
   "outputs": [
    {
     "data": {
      "text/plain": [
       "(array([0, 2, 3, 5, 6, 9]),)"
      ]
     },
     "execution_count": 31,
     "metadata": {},
     "output_type": "execute_result"
    }
   ],
   "source": [
    "# 判断哪些位置的是符合我们条件的\n",
    "np.where(random_array > 0.5)"
   ]
  },
  {
   "cell_type": "code",
   "execution_count": 32,
   "metadata": {},
   "outputs": [
    {
     "data": {
      "text/plain": [
       "array([0.63387693, 0.56138125, 0.54359955, 0.55972276, 0.95097271,\n",
       "       0.99258474])"
      ]
     },
     "execution_count": 32,
     "metadata": {},
     "output_type": "execute_result"
    }
   ],
   "source": [
    "# 同样可以根据这些获取对应的数据\n",
    "random_array[np.where(random_array > 0.5)]"
   ]
  },
  {
   "cell_type": "markdown",
   "metadata": {},
   "source": [
    "## 总结\n",
    "\n",
    "ndarray 中除了可以传入普通数字索引外，还可以传入ndarray作为索引。如果传入的ndarray索引dtype=bool，那么会获得为True对应索引位置的值。\n",
    "如果传入的dtype=int64，那么直接获得对应索引位置的值。"
   ]
  }
 ],
 "metadata": {
  "kernelspec": {
   "display_name": "Python 3",
   "language": "python",
   "name": "python3"
  },
  "language_info": {
   "codemirror_mode": {
    "name": "ipython",
    "version": 3
   },
   "file_extension": ".py",
   "mimetype": "text/x-python",
   "name": "python",
   "nbconvert_exporter": "python",
   "pygments_lexer": "ipython3",
   "version": "3.8.1"
  }
 },
 "nbformat": 4,
 "nbformat_minor": 1
}
